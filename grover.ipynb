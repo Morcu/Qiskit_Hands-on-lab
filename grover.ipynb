{
 "cells": [
  {
   "cell_type": "markdown",
   "metadata": {},
   "source": [
    "Busqueda en una lista no estructurada\n",
    "\n",
    "[0,1,2,...,w,...,N] --> N= 2^n\n",
    "\n",
    "### Oraculo\n",
    "\n",
    "Codificacion --> Función  𝑓  que devuelve  𝑓(𝑥)=0  para todos los items no marcados  𝑥  y  𝑓(𝑤)=1  para el \"ganador\".\n",
    "\n",
    "### Amplificacion de la amplitud\n",
    "\n",
    "- 1 Superposicion uniforme\n",
    "\n",
    "![grover_step1](./img/grover_step1.png)\n",
    "\n",
    "- 2 Aplicar una inversion del oraculo 𝑈𝑓  \n",
    "\n",
    "![grover_step2](./img/grover_step2.png)\n",
    "\n",
    "- 3 Aplicar inversion 𝑈𝑠\n",
    "\n",
    "![grover_step3](./img/grover_step3.png)\n",
    "\n",
    "\n",
    "[Informacion de Qiskit sobre grover](https://qiskit.org/textbook/ch-algorithms/grover.html)"
   ]
  },
  {
   "cell_type": "code",
   "execution_count": 73,
   "metadata": {},
   "outputs": [],
   "source": [
    "#initialization\n",
    "import matplotlib.pyplot as plt\n",
    "%matplotlib inline\n",
    "import numpy as np\n",
    "\n",
    "# importing Qiskit\n",
    "from qiskit import IBMQ, BasicAer, Aer\n",
    "from qiskit.providers.ibmq import least_busy\n",
    "from qiskit import QuantumCircuit, ClassicalRegister, QuantumRegister, execute\n",
    "\n",
    "# import basic plot tools\n",
    "from qiskit.visualization import plot_histogram"
   ]
  },
  {
   "cell_type": "code",
   "execution_count": 74,
   "metadata": {},
   "outputs": [],
   "source": [
    "def build_grover_circuit(search_bits):\n",
    "    qr = QuantumRegister(2)\n",
    "    cr = ClassicalRegister(2)\n",
    "\n",
    "    groverCircuit = QuantumCircuit(qr,cr)\n",
    "    groverCircuit.h(qr)\n",
    "    groverCircuit.barrier()\n",
    "    \n",
    "    search = {\n",
    "        \"00\": qr,\n",
    "        \"01\": qr[0],\n",
    "        \"10\": qr[1]\n",
    "    }\n",
    "    if search_bits != '11':\n",
    "        groverCircuit.x(search[search_bits])\n",
    "    \n",
    "    groverCircuit.cz(qr[0],qr[1])\n",
    "\n",
    "    if search_bits != '11':\n",
    "        groverCircuit.x(search[search_bits])\n",
    "    groverCircuit.barrier()\n",
    "    \n",
    "    \n",
    "    groverCircuit.h(qr)\n",
    "    groverCircuit.z(qr)\n",
    "    groverCircuit.cz(qr[0],qr[1])\n",
    "    groverCircuit.h(qr)\n",
    "        \n",
    "    return groverCircuit, qr, cr"
   ]
  },
  {
   "cell_type": "code",
   "execution_count": 75,
   "metadata": {},
   "outputs": [],
   "source": [
    "groverCircuit, qr, cr = build_grover_circuit('10')"
   ]
  },
  {
   "cell_type": "code",
   "execution_count": 76,
   "metadata": {},
   "outputs": [
    {
     "data": {
      "image/png": "[encoded data removed]",
      "text/plain": [
       "<Figure size 780.192x204.68 with 1 Axes>"
      ]
     },
     "execution_count": 76,
     "metadata": {},
     "output_type": "execute_result"
    }
   ],
   "source": [
    "groverCircuit.draw(output=\"mpl\")"
   ]
  },
  {
   "cell_type": "code",
   "execution_count": 77,
   "metadata": {},
   "outputs": [
    {
     "name": "stdout",
     "output_type": "stream",
     "text": [
      "[-3.92523115e-17+2.79523858e-32j  1.00000000e+00-2.44929360e-16j\n",
      " -3.92523115e-17+2.79523858e-32j -1.11022302e-16+1.22464680e-16j]\n"
     ]
    }
   ],
   "source": [
    "backend_sim = Aer.get_backend('statevector_simulator')\n",
    "job_sim = execute(groverCircuit, backend_sim)\n",
    "statevec = job_sim.result().get_statevector()\n",
    "print(statevec)"
   ]
  },
  {
   "cell_type": "code",
   "execution_count": 78,
   "metadata": {},
   "outputs": [
    {
     "data": {
      "image/png": "[encoded data removed]",
      "text/plain": [
       "<Figure size 504x360 with 1 Axes>"
      ]
     },
     "execution_count": 78,
     "metadata": {},
     "output_type": "execute_result"
    }
   ],
   "source": [
    "groverCircuit.measure(qr,cr)\n",
    "\n",
    "backend = BasicAer.get_backend('qasm_simulator')\n",
    "shots = 1024\n",
    "results = execute(groverCircuit, backend=backend, shots=shots).result()\n",
    "answer = results.get_counts() \n",
    "plot_histogram(answer)"
   ]
  },
  {
   "cell_type": "code",
   "execution_count": null,
   "metadata": {},
   "outputs": [],
   "source": []
  },
  {
   "cell_type": "code",
   "execution_count": null,
   "metadata": {},
   "outputs": [],
   "source": []
  }
 ],
 "metadata": {
  "kernelspec": {
   "display_name": "Python 3",
   "language": "python",
   "name": "python3"
  },
  "language_info": {
   "codemirror_mode": {
    "name": "ipython",
    "version": 3
   },
   "file_extension": ".py",
   "mimetype": "text/x-python",
   "name": "python",
   "nbconvert_exporter": "python",
   "pygments_lexer": "ipython3",
   "version": "3.7.5"
  }
 },
 "nbformat": 4,
 "nbformat_minor": 4
}
